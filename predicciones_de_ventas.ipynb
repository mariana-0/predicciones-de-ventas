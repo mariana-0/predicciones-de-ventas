{
  "nbformat": 4,
  "nbformat_minor": 0,
  "metadata": {
    "colab": {
      "provenance": [],
      "authorship_tag": "ABX9TyOipElj1032uz0y4gyvHo3t",
      "include_colab_link": true
    },
    "kernelspec": {
      "name": "python3",
      "display_name": "Python 3"
    },
    "language_info": {
      "name": "python"
    }
  },
  "cells": [
    {
      "cell_type": "markdown",
      "metadata": {
        "id": "view-in-github",
        "colab_type": "text"
      },
      "source": [
        "<a href=\"https://colab.research.google.com/github/mariana-0/predicciones-de-ventas/blob/master/predicciones_de_ventas.ipynb\" target=\"_parent\"><img src=\"https://colab.research.google.com/assets/colab-badge.svg\" alt=\"Open In Colab\"/></a>"
      ]
    },
    {
      "cell_type": "markdown",
      "source": [
        "# Predicciones de ventas"
      ],
      "metadata": {
        "id": "eeVbR33KmbL1"
      }
    },
    {
      "cell_type": "code",
      "source": [],
      "metadata": {
        "id": "KU8AipdJmd4B"
      },
      "execution_count": null,
      "outputs": []
    }
  ]
}